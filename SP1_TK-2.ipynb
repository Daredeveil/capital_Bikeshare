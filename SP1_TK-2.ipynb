{
    "cells": [
        {
            "cell_type": "code",
            "execution_count": 3,
            "source": [
                "import numpy as np\n",
                "import pandas as pd\n",
                "import matplotlib.pyplot as plt\n",
                "import seaborn as sns"
            ],
            "outputs": [],
            "metadata": {}
        },
        {
            "cell_type": "code",
            "execution_count": 4,
            "source": [
                "# Import Capital Bike Share DataFrames\n",
                "df_st = pd.read_csv('station_info.csv')\n",
                "df_wk = pd.read_csv('last_week.csv')"
            ],
            "outputs": [],
            "metadata": {}
        },
        {
            "cell_type": "code",
            "execution_count": 5,
            "source": [
                "df_st.head()"
            ],
            "outputs": [
                {
                    "output_type": "execute_result",
                    "data": {
                        "text/plain": [
                            "   Unnamed: 0                                          Name  Capacity\n",
                            "0           0                           Eads St & 15th St S        15\n",
                            "1           1                           18th St & S Eads St        11\n",
                            "2           2                        Crystal Dr & 20th St S        17\n",
                            "3           3                        Crystal Dr & 15th St S        16\n",
                            "4           4  Aurora Hills Cmty Ctr / 18th St & S Hayes St        12"
                        ],
                        "text/html": [
                            "<div>\n",
                            "<style scoped>\n",
                            "    .dataframe tbody tr th:only-of-type {\n",
                            "        vertical-align: middle;\n",
                            "    }\n",
                            "\n",
                            "    .dataframe tbody tr th {\n",
                            "        vertical-align: top;\n",
                            "    }\n",
                            "\n",
                            "    .dataframe thead th {\n",
                            "        text-align: right;\n",
                            "    }\n",
                            "</style>\n",
                            "<table border=\"1\" class=\"dataframe\">\n",
                            "  <thead>\n",
                            "    <tr style=\"text-align: right;\">\n",
                            "      <th></th>\n",
                            "      <th>Unnamed: 0</th>\n",
                            "      <th>Name</th>\n",
                            "      <th>Capacity</th>\n",
                            "    </tr>\n",
                            "  </thead>\n",
                            "  <tbody>\n",
                            "    <tr>\n",
                            "      <th>0</th>\n",
                            "      <td>0</td>\n",
                            "      <td>Eads St &amp; 15th St S</td>\n",
                            "      <td>15</td>\n",
                            "    </tr>\n",
                            "    <tr>\n",
                            "      <th>1</th>\n",
                            "      <td>1</td>\n",
                            "      <td>18th St &amp; S Eads St</td>\n",
                            "      <td>11</td>\n",
                            "    </tr>\n",
                            "    <tr>\n",
                            "      <th>2</th>\n",
                            "      <td>2</td>\n",
                            "      <td>Crystal Dr &amp; 20th St S</td>\n",
                            "      <td>17</td>\n",
                            "    </tr>\n",
                            "    <tr>\n",
                            "      <th>3</th>\n",
                            "      <td>3</td>\n",
                            "      <td>Crystal Dr &amp; 15th St S</td>\n",
                            "      <td>16</td>\n",
                            "    </tr>\n",
                            "    <tr>\n",
                            "      <th>4</th>\n",
                            "      <td>4</td>\n",
                            "      <td>Aurora Hills Cmty Ctr / 18th St &amp; S Hayes St</td>\n",
                            "      <td>12</td>\n",
                            "    </tr>\n",
                            "  </tbody>\n",
                            "</table>\n",
                            "</div>"
                        ]
                    },
                    "metadata": {},
                    "execution_count": 5
                }
            ],
            "metadata": {}
        },
        {
            "cell_type": "code",
            "execution_count": null,
            "source": [
                "df_st.shape"
            ],
            "outputs": [],
            "metadata": {}
        },
        {
            "cell_type": "code",
            "execution_count": 22,
            "source": [
                "df_st[(df_st['Name']=='Lincoln Memorial')]"
            ],
            "outputs": [
                {
                    "output_type": "execute_result",
                    "data": {
                        "text/plain": [
                            "     Unnamed: 0              Name  Capacity\n",
                            "195         195  Lincoln Memorial        25"
                        ],
                        "text/html": [
                            "<div>\n",
                            "<style scoped>\n",
                            "    .dataframe tbody tr th:only-of-type {\n",
                            "        vertical-align: middle;\n",
                            "    }\n",
                            "\n",
                            "    .dataframe tbody tr th {\n",
                            "        vertical-align: top;\n",
                            "    }\n",
                            "\n",
                            "    .dataframe thead th {\n",
                            "        text-align: right;\n",
                            "    }\n",
                            "</style>\n",
                            "<table border=\"1\" class=\"dataframe\">\n",
                            "  <thead>\n",
                            "    <tr style=\"text-align: right;\">\n",
                            "      <th></th>\n",
                            "      <th>Unnamed: 0</th>\n",
                            "      <th>Name</th>\n",
                            "      <th>Capacity</th>\n",
                            "    </tr>\n",
                            "  </thead>\n",
                            "  <tbody>\n",
                            "    <tr>\n",
                            "      <th>195</th>\n",
                            "      <td>195</td>\n",
                            "      <td>Lincoln Memorial</td>\n",
                            "      <td>25</td>\n",
                            "    </tr>\n",
                            "  </tbody>\n",
                            "</table>\n",
                            "</div>"
                        ]
                    },
                    "metadata": {},
                    "execution_count": 22
                }
            ],
            "metadata": {}
        },
        {
            "cell_type": "code",
            "execution_count": null,
            "source": [
                "df_wk[df_wk['start_station_name']=='Lincoln Memorial'].count()"
            ],
            "outputs": [],
            "metadata": {}
        },
        {
            "cell_type": "code",
            "execution_count": null,
            "source": [
                "df_wk.dtypes"
            ],
            "outputs": [],
            "metadata": {}
        },
        {
            "cell_type": "code",
            "execution_count": 13,
            "source": [
                "df_wk['day'].str.replace(\"-\",\"\").astype(int)"
            ],
            "outputs": [
                {
                    "output_type": "execute_result",
                    "data": {
                        "text/plain": [
                            "0        20210625\n",
                            "1        20210622\n",
                            "2        20210622\n",
                            "3        20210626\n",
                            "4        20210622\n",
                            "           ...   \n",
                            "57929    20210623\n",
                            "57930    20210625\n",
                            "57931    20210625\n",
                            "57932    20210625\n",
                            "57933    20210621\n",
                            "Name: day, Length: 57934, dtype: int64"
                        ]
                    },
                    "metadata": {},
                    "execution_count": 13
                }
            ],
            "metadata": {}
        },
        {
            "cell_type": "code",
            "execution_count": 41,
            "source": [
                "df_wk.day = pd.to_datetime(df_wk.day)\n",
                "df_wk.loc[:,'DAY'] = df_wk.day.dt.day\n",
                "df_wk.loc[:,'weekday'] = df_wk.day.dt.day_name()\n",
                "df_wk.loc[:,'month'] = df_wk.day.dt.month_name()\n",
                "df_wk.loc[:,'yr'] = df_wk.day.dt.year"
            ],
            "outputs": [],
            "metadata": {}
        },
        {
            "cell_type": "code",
            "execution_count": 25,
            "source": [
                "df_wk.head()"
            ],
            "outputs": [
                {
                    "output_type": "execute_result",
                    "data": {
                        "text/plain": [
                            "            ride_id rideable_type           started_at             ended_at  \\\n",
                            "0  B3FA23181ADC06FE   docked_bike  2021-06-25 00:51:53  2021-06-25 01:51:40   \n",
                            "1  6A153F2AD6700EE1  classic_bike  2021-06-22 06:28:23  2021-06-22 06:33:19   \n",
                            "2  7265E4C759F1EDC0  classic_bike  2021-06-22 22:27:28  2021-06-22 22:30:39   \n",
                            "3  18FB278BE5F2B0C7   docked_bike  2021-06-26 20:49:57  2021-06-26 22:44:29   \n",
                            "4  294E78FE02E1C65F  classic_bike  2021-06-22 20:35:41  2021-06-22 20:45:27   \n",
                            "\n",
                            "                           start_station_name  start_station_id  \\\n",
                            "0                     Georgia Ave & Spring St           32035.0   \n",
                            "1  Merrifield Cinema & Merrifield Town Center           32235.0   \n",
                            "2                    Columbia & Ontario Rd NW           31296.0   \n",
                            "3                               1st & H St NW           31638.0   \n",
                            "4                               5th & K St NW           31600.0   \n",
                            "\n",
                            "                      end_station_name  end_station_id  start_lat  start_lng  \\\n",
                            "0         New Hampshire & Kirklynn Ave         32061.0  38.999388 -77.031555   \n",
                            "1  Merrilee Dr & Lauren Elizabeth Lane         32234.0  38.870093 -77.229970   \n",
                            "2                 15th & Harvard St NW         31103.0  38.924088 -77.040787   \n",
                            "3                        1st & H St NW         31638.0  38.900358 -77.012108   \n",
                            "4       17th St & Massachusetts Ave NW         31267.0  38.903040 -77.019027   \n",
                            "\n",
                            "     end_lat    end_lng member_casual        day  DAY   weekday month    yr  \n",
                            "0  38.988101 -76.988422        casual 2021-06-25   25    Friday  June  2021  \n",
                            "1  38.879355 -77.230681        casual 2021-06-22   22   Tuesday  June  2021  \n",
                            "2  38.926124 -77.035421        member 2021-06-22   22   Tuesday  June  2021  \n",
                            "3  38.900358 -77.012108        casual 2021-06-26   26  Saturday  June  2021  \n",
                            "4  38.908142 -77.038359        member 2021-06-22   22   Tuesday  June  2021  "
                        ],
                        "text/html": [
                            "<div>\n",
                            "<style scoped>\n",
                            "    .dataframe tbody tr th:only-of-type {\n",
                            "        vertical-align: middle;\n",
                            "    }\n",
                            "\n",
                            "    .dataframe tbody tr th {\n",
                            "        vertical-align: top;\n",
                            "    }\n",
                            "\n",
                            "    .dataframe thead th {\n",
                            "        text-align: right;\n",
                            "    }\n",
                            "</style>\n",
                            "<table border=\"1\" class=\"dataframe\">\n",
                            "  <thead>\n",
                            "    <tr style=\"text-align: right;\">\n",
                            "      <th></th>\n",
                            "      <th>ride_id</th>\n",
                            "      <th>rideable_type</th>\n",
                            "      <th>started_at</th>\n",
                            "      <th>ended_at</th>\n",
                            "      <th>start_station_name</th>\n",
                            "      <th>start_station_id</th>\n",
                            "      <th>end_station_name</th>\n",
                            "      <th>end_station_id</th>\n",
                            "      <th>start_lat</th>\n",
                            "      <th>start_lng</th>\n",
                            "      <th>end_lat</th>\n",
                            "      <th>end_lng</th>\n",
                            "      <th>member_casual</th>\n",
                            "      <th>day</th>\n",
                            "      <th>DAY</th>\n",
                            "      <th>weekday</th>\n",
                            "      <th>month</th>\n",
                            "      <th>yr</th>\n",
                            "    </tr>\n",
                            "  </thead>\n",
                            "  <tbody>\n",
                            "    <tr>\n",
                            "      <th>0</th>\n",
                            "      <td>B3FA23181ADC06FE</td>\n",
                            "      <td>docked_bike</td>\n",
                            "      <td>2021-06-25 00:51:53</td>\n",
                            "      <td>2021-06-25 01:51:40</td>\n",
                            "      <td>Georgia Ave &amp; Spring St</td>\n",
                            "      <td>32035.0</td>\n",
                            "      <td>New Hampshire &amp; Kirklynn Ave</td>\n",
                            "      <td>32061.0</td>\n",
                            "      <td>38.999388</td>\n",
                            "      <td>-77.031555</td>\n",
                            "      <td>38.988101</td>\n",
                            "      <td>-76.988422</td>\n",
                            "      <td>casual</td>\n",
                            "      <td>2021-06-25</td>\n",
                            "      <td>25</td>\n",
                            "      <td>Friday</td>\n",
                            "      <td>June</td>\n",
                            "      <td>2021</td>\n",
                            "    </tr>\n",
                            "    <tr>\n",
                            "      <th>1</th>\n",
                            "      <td>6A153F2AD6700EE1</td>\n",
                            "      <td>classic_bike</td>\n",
                            "      <td>2021-06-22 06:28:23</td>\n",
                            "      <td>2021-06-22 06:33:19</td>\n",
                            "      <td>Merrifield Cinema &amp; Merrifield Town Center</td>\n",
                            "      <td>32235.0</td>\n",
                            "      <td>Merrilee Dr &amp; Lauren Elizabeth Lane</td>\n",
                            "      <td>32234.0</td>\n",
                            "      <td>38.870093</td>\n",
                            "      <td>-77.229970</td>\n",
                            "      <td>38.879355</td>\n",
                            "      <td>-77.230681</td>\n",
                            "      <td>casual</td>\n",
                            "      <td>2021-06-22</td>\n",
                            "      <td>22</td>\n",
                            "      <td>Tuesday</td>\n",
                            "      <td>June</td>\n",
                            "      <td>2021</td>\n",
                            "    </tr>\n",
                            "    <tr>\n",
                            "      <th>2</th>\n",
                            "      <td>7265E4C759F1EDC0</td>\n",
                            "      <td>classic_bike</td>\n",
                            "      <td>2021-06-22 22:27:28</td>\n",
                            "      <td>2021-06-22 22:30:39</td>\n",
                            "      <td>Columbia &amp; Ontario Rd NW</td>\n",
                            "      <td>31296.0</td>\n",
                            "      <td>15th &amp; Harvard St NW</td>\n",
                            "      <td>31103.0</td>\n",
                            "      <td>38.924088</td>\n",
                            "      <td>-77.040787</td>\n",
                            "      <td>38.926124</td>\n",
                            "      <td>-77.035421</td>\n",
                            "      <td>member</td>\n",
                            "      <td>2021-06-22</td>\n",
                            "      <td>22</td>\n",
                            "      <td>Tuesday</td>\n",
                            "      <td>June</td>\n",
                            "      <td>2021</td>\n",
                            "    </tr>\n",
                            "    <tr>\n",
                            "      <th>3</th>\n",
                            "      <td>18FB278BE5F2B0C7</td>\n",
                            "      <td>docked_bike</td>\n",
                            "      <td>2021-06-26 20:49:57</td>\n",
                            "      <td>2021-06-26 22:44:29</td>\n",
                            "      <td>1st &amp; H St NW</td>\n",
                            "      <td>31638.0</td>\n",
                            "      <td>1st &amp; H St NW</td>\n",
                            "      <td>31638.0</td>\n",
                            "      <td>38.900358</td>\n",
                            "      <td>-77.012108</td>\n",
                            "      <td>38.900358</td>\n",
                            "      <td>-77.012108</td>\n",
                            "      <td>casual</td>\n",
                            "      <td>2021-06-26</td>\n",
                            "      <td>26</td>\n",
                            "      <td>Saturday</td>\n",
                            "      <td>June</td>\n",
                            "      <td>2021</td>\n",
                            "    </tr>\n",
                            "    <tr>\n",
                            "      <th>4</th>\n",
                            "      <td>294E78FE02E1C65F</td>\n",
                            "      <td>classic_bike</td>\n",
                            "      <td>2021-06-22 20:35:41</td>\n",
                            "      <td>2021-06-22 20:45:27</td>\n",
                            "      <td>5th &amp; K St NW</td>\n",
                            "      <td>31600.0</td>\n",
                            "      <td>17th St &amp; Massachusetts Ave NW</td>\n",
                            "      <td>31267.0</td>\n",
                            "      <td>38.903040</td>\n",
                            "      <td>-77.019027</td>\n",
                            "      <td>38.908142</td>\n",
                            "      <td>-77.038359</td>\n",
                            "      <td>member</td>\n",
                            "      <td>2021-06-22</td>\n",
                            "      <td>22</td>\n",
                            "      <td>Tuesday</td>\n",
                            "      <td>June</td>\n",
                            "      <td>2021</td>\n",
                            "    </tr>\n",
                            "  </tbody>\n",
                            "</table>\n",
                            "</div>"
                        ]
                    },
                    "metadata": {},
                    "execution_count": 25
                }
            ],
            "metadata": {}
        },
        {
            "cell_type": "code",
            "execution_count": null,
            "source": [
                "df_wk[df_wk['weekday']=='Friday'].count()"
            ],
            "outputs": [],
            "metadata": {}
        },
        {
            "cell_type": "code",
            "execution_count": 47,
            "source": [
                "df_wk[(df_wk['start_station_name']=='Lincoln Memorial') & (df_wk['day']=='2021-06-25') ].count()['ride_id']"
            ],
            "outputs": [
                {
                    "output_type": "execute_result",
                    "data": {
                        "text/plain": [
                            "142"
                        ]
                    },
                    "metadata": {},
                    "execution_count": 47
                }
            ],
            "metadata": {}
        },
        {
            "cell_type": "code",
            "execution_count": 50,
            "source": [
                "count_wk= pd.DataFrame(df_wk.groupby(['start_station_name']).count()['ride_id'])\n",
                "count_wk"
            ],
            "outputs": [
                {
                    "output_type": "execute_result",
                    "data": {
                        "text/plain": [
                            "                                                    ride_id\n",
                            "start_station_name                                         \n",
                            "10th & E St NW                                          183\n",
                            "10th & Florida Ave NW                                   247\n",
                            "10th & G St NW                                          116\n",
                            "10th & K St NW                                          257\n",
                            "10th & Monroe St NE                                      54\n",
                            "...                                                     ...\n",
                            "Wisconsin Ave & O St NW                                 164\n",
                            "Woodglen Dr & Executive Blvd                             15\n",
                            "Woodley Park Metro / Calvert St & Connecticut A...      207\n",
                            "Woodmont Ave & Strathmore St                             47\n",
                            "Yuma St & Tenley Circle NW                               14\n",
                            "\n",
                            "[611 rows x 1 columns]"
                        ],
                        "text/html": [
                            "<div>\n",
                            "<style scoped>\n",
                            "    .dataframe tbody tr th:only-of-type {\n",
                            "        vertical-align: middle;\n",
                            "    }\n",
                            "\n",
                            "    .dataframe tbody tr th {\n",
                            "        vertical-align: top;\n",
                            "    }\n",
                            "\n",
                            "    .dataframe thead th {\n",
                            "        text-align: right;\n",
                            "    }\n",
                            "</style>\n",
                            "<table border=\"1\" class=\"dataframe\">\n",
                            "  <thead>\n",
                            "    <tr style=\"text-align: right;\">\n",
                            "      <th></th>\n",
                            "      <th>ride_id</th>\n",
                            "    </tr>\n",
                            "    <tr>\n",
                            "      <th>start_station_name</th>\n",
                            "      <th></th>\n",
                            "    </tr>\n",
                            "  </thead>\n",
                            "  <tbody>\n",
                            "    <tr>\n",
                            "      <th>10th &amp; E St NW</th>\n",
                            "      <td>183</td>\n",
                            "    </tr>\n",
                            "    <tr>\n",
                            "      <th>10th &amp; Florida Ave NW</th>\n",
                            "      <td>247</td>\n",
                            "    </tr>\n",
                            "    <tr>\n",
                            "      <th>10th &amp; G St NW</th>\n",
                            "      <td>116</td>\n",
                            "    </tr>\n",
                            "    <tr>\n",
                            "      <th>10th &amp; K St NW</th>\n",
                            "      <td>257</td>\n",
                            "    </tr>\n",
                            "    <tr>\n",
                            "      <th>10th &amp; Monroe St NE</th>\n",
                            "      <td>54</td>\n",
                            "    </tr>\n",
                            "    <tr>\n",
                            "      <th>...</th>\n",
                            "      <td>...</td>\n",
                            "    </tr>\n",
                            "    <tr>\n",
                            "      <th>Wisconsin Ave &amp; O St NW</th>\n",
                            "      <td>164</td>\n",
                            "    </tr>\n",
                            "    <tr>\n",
                            "      <th>Woodglen Dr &amp; Executive Blvd</th>\n",
                            "      <td>15</td>\n",
                            "    </tr>\n",
                            "    <tr>\n",
                            "      <th>Woodley Park Metro / Calvert St &amp; Connecticut Ave NW</th>\n",
                            "      <td>207</td>\n",
                            "    </tr>\n",
                            "    <tr>\n",
                            "      <th>Woodmont Ave &amp; Strathmore St</th>\n",
                            "      <td>47</td>\n",
                            "    </tr>\n",
                            "    <tr>\n",
                            "      <th>Yuma St &amp; Tenley Circle NW</th>\n",
                            "      <td>14</td>\n",
                            "    </tr>\n",
                            "  </tbody>\n",
                            "</table>\n",
                            "<p>611 rows × 1 columns</p>\n",
                            "</div>"
                        ]
                    },
                    "metadata": {},
                    "execution_count": 50
                }
            ],
            "metadata": {}
        },
        {
            "cell_type": "code",
            "execution_count": 46,
            "source": [
                "df_wk['start_station_name'].value_counts()[:3].plot(kind='barh')"
            ],
            "outputs": [
                {
                    "output_type": "execute_result",
                    "data": {
                        "text/plain": [
                            "<AxesSubplot:>"
                        ]
                    },
                    "metadata": {},
                    "execution_count": 46
                },
                {
                    "output_type": "display_data",
                    "data": {
                        "text/plain": [
                            "<Figure size 432x288 with 1 Axes>"
                        ],
                        "image/png": "[encoded data removed]"
                    },
                    "metadata": {
                        "needs_background": "light"
                    }
                }
            ],
            "metadata": {}
        },
        {
            "cell_type": "code",
            "execution_count": 33,
            "source": [
                "df_wk.columns"
            ],
            "outputs": [
                {
                    "output_type": "execute_result",
                    "data": {
                        "text/plain": [
                            "Index(['ride_id', 'rideable_type', 'started_at', 'ended_at',\n",
                            "       'start_station_name', 'start_station_id', 'end_station_name',\n",
                            "       'end_station_id', 'start_lat', 'start_lng', 'end_lat', 'end_lng',\n",
                            "       'member_casual', 'day', 'DAY', 'weekday', 'month', 'yr'],\n",
                            "      dtype='object')"
                        ]
                    },
                    "metadata": {},
                    "execution_count": 33
                }
            ],
            "metadata": {}
        },
        {
            "cell_type": "code",
            "execution_count": 49,
            "source": [
                "df_wk['member_casual'].value_counts().plot(kind='barh')"
            ],
            "outputs": [
                {
                    "output_type": "execute_result",
                    "data": {
                        "text/plain": [
                            "<AxesSubplot:>"
                        ]
                    },
                    "metadata": {},
                    "execution_count": 49
                },
                {
                    "output_type": "display_data",
                    "data": {
                        "text/plain": [
                            "<Figure size 432x288 with 1 Axes>"
                        ],
                        "image/png": "[encoded data removed]"
                    },
                    "metadata": {
                        "needs_background": "light"
                    }
                }
            ],
            "metadata": {}
        },
        {
            "cell_type": "code",
            "execution_count": null,
            "source": [
                "daily = (df_wk['started_at'].resample('m').sum()).plot(figsize = (15,5))"
            ],
            "outputs": [],
            "metadata": {}
        },
        {
            "cell_type": "code",
            "execution_count": null,
            "source": [
                "by_weekday = (df_wk['started_at'].resample('m').sum()).plot(figsize = (15,5))"
            ],
            "outputs": [],
            "metadata": {}
        }
    ],
    "metadata": {
        "orig_nbformat": 4,
        "language_info": {
            "name": "python",
            "version": "3.9.5",
            "mimetype": "text/x-python",
            "codemirror_mode": {
                "name": "ipython",
                "version": 3
            },
            "pygments_lexer": "ipython3",
            "nbconvert_exporter": "python",
            "file_extension": ".py"
        },
        "kernelspec": {
            "name": "python3",
            "display_name": "Python 3.9.5 64-bit"
        },
        "interpreter": {
            "hash": "397704579725e15f5c7cb49fe5f0341eb7531c82d19f2c29d197e8b64ab5776b"
        }
    },
    "nbformat": 4,
    "nbformat_minor": 2
}