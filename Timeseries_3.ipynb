{
    "cells": [
        {
            "cell_type": "code",
            "execution_count": null,
            "source": [
                "import datetime\n",
                "import numpy as np\n",
                "import pandas as pd\n",
                "import matplotlib.pyplot as plt\n",
                "import seaborn as sns\n",
                "\n",
                "import warnings\n",
                "warnings.filterwarnings(\"ignore\")"
            ],
            "outputs": [],
            "metadata": {}
        },
        {
            "cell_type": "code",
            "execution_count": null,
            "source": [
                "# Import Capital Bike Share DataFrames\n",
                "df = pd.read_csv('last_week.csv')"
            ],
            "outputs": [],
            "metadata": {}
        },
        {
            "cell_type": "code",
            "execution_count": null,
            "source": [
                "# Checking the no. of rows and columns in the given DataFrames\n",
                "df.shape"
            ],
            "outputs": [],
            "metadata": {}
        },
        {
            "cell_type": "code",
            "execution_count": null,
            "source": [
                "# Checking empty cells in the columns for DataFrames\n",
                "df.isnull().sum()"
            ],
            "outputs": [],
            "metadata": {}
        },
        {
            "cell_type": "code",
            "execution_count": null,
            "source": [
                "# Droping empty rows from the DataFrame\n",
                "df= df.dropna()"
            ],
            "outputs": [],
            "metadata": {}
        },
        {
            "cell_type": "code",
            "execution_count": null,
            "source": [
                "# Top 5 (by default) for DataFrame with capacity information\n",
                "df.head()"
            ],
            "outputs": [],
            "metadata": {}
        },
        {
            "cell_type": "code",
            "execution_count": null,
            "source": [
                "# Checking Data Type for the given DataFrames\n",
                "df.dtypes"
            ],
            "outputs": [],
            "metadata": {}
        },
        {
            "cell_type": "code",
            "execution_count": null,
            "source": [
                "# Checking Data Type for the given DataFrames\n",
                "type(df['started_at'][0])"
            ],
            "outputs": [],
            "metadata": {}
        },
        {
            "cell_type": "code",
            "execution_count": null,
            "source": [
                "# Convertion 'object' data type for 'started_at' and 'ended_at' columns to Timestamp/datetime64\n",
                "df['started_at'] = pd.to_datetime(df['started_at'])\n",
                "df['ended_at'] = pd.to_datetime(df['ended_at'])"
            ],
            "outputs": [],
            "metadata": {}
        },
        {
            "cell_type": "code",
            "execution_count": null,
            "source": [
                "# Checking converted data type\n",
                "type(df['started_at'][0])"
            ],
            "outputs": [],
            "metadata": {}
        },
        {
            "cell_type": "code",
            "execution_count": null,
            "source": [
                "# Set one of the column of dataframe as index using .index function\n",
                "# Setting 'started_at' column as index\n",
                "df.index = df['started_at']\n",
                "df.index"
            ],
            "outputs": [],
            "metadata": {}
        },
        {
            "cell_type": "code",
            "execution_count": null,
            "source": [
                "# Reference: https://stackoverflow.com/questions/51938140/how-to-get-the-time-duration-from-two-date-time-columns-of-pandas-dataframe\n",
                "# Option-1: Finding the duration of trip.\n",
                "\n",
                "#df['duration_min'] = (df['ended_at']-df['started_at']).apply(lambda x: x.seconds/(60))"
            ],
            "outputs": [],
            "metadata": {}
        },
        {
            "cell_type": "code",
            "execution_count": null,
            "source": [
                "# Option-2: Finding the duration of trip. Using Numpy 'timedelta64' function. \n",
                "# Reference: https://numpy.org/doc/stable/reference/arrays.datetime.html\n",
                "\n",
                "df['duration_hr'] = (df['ended_at']-df['started_at'])/np.timedelta64(1,'h')\n",
                "df['duration_hr'] = df['duration_hr'].round(2)\n"
            ],
            "outputs": [],
            "metadata": {}
        },
        {
            "cell_type": "code",
            "execution_count": null,
            "source": [
                "df = df.sort_index()\n",
                "df"
            ],
            "outputs": [],
            "metadata": {}
        },
        {
            "cell_type": "code",
            "execution_count": null,
            "source": [
                "# Sorting the values according to the date\n",
                "\n",
                "#df.sort_values(by=['duration_hr'], ascending=False)"
            ],
            "outputs": [],
            "metadata": {}
        },
        {
            "cell_type": "code",
            "execution_count": null,
            "source": [
                "# Slice data for specific day/time using index column\n",
                "df.loc['2021-06-25']"
            ],
            "outputs": [],
            "metadata": {}
        },
        {
            "cell_type": "code",
            "execution_count": null,
            "source": [
                "# Counting the no. of rides for the busiest stations\n",
                "df.loc['2021-06-22' : '2021-06-22'].groupby('start_station_name').count()['rideable_type'].sort_values(ascending=False)"
            ],
            "outputs": [],
            "metadata": {}
        },
        {
            "cell_type": "code",
            "execution_count": null,
            "source": [
                "# Plotting no. of rides for 5 stations\n",
                "df.loc['2021-06-22' : '2021-06-22'].groupby(['start_station_name']).count()['rideable_type'].sort_values(ascending=False)[:5].plot(kind='bar')"
            ],
            "outputs": [],
            "metadata": {}
        },
        {
            "cell_type": "code",
            "execution_count": null,
            "source": [
                "# Slicing for the time duration\n",
                "# Limitation: Only applicable to the same day. If the day is not the same than it will take the values out of the desired time duration\n",
                "\n",
                "df.loc['2021-06-21 10:00:00' : '2021-06-21 12:00:00',:]"
            ],
            "outputs": [],
            "metadata": {}
        },
        {
            "cell_type": "code",
            "execution_count": null,
            "source": [
                "# Adding columns for hour and day name in DataFrame\n",
                "\n",
                "df.loc[:,'hour'] = df['started_at'].dt.hour\n",
                "df.loc[:,'DAY'] = df['started_at'].dt.day\n",
                "df.loc[:,'weekday'] = df['started_at'].dt.day_name()"
            ],
            "outputs": [],
            "metadata": {}
        },
        {
            "cell_type": "code",
            "execution_count": null,
            "source": [
                "df"
            ],
            "outputs": [],
            "metadata": {}
        },
        {
            "cell_type": "code",
            "execution_count": null,
            "source": [
                "# Plotting Bike rides vs time for members and casual users\n",
                "\n",
                "sns.set(rc={'figure.figsize':(17.0,8.27)})\n",
                "\n",
                "df_mem_cal = df.groupby(['hour', 'member_casual']).count()['ride_id'].reset_index()\n",
                "\n",
                "sns.lineplot(data= df_mem_cal, x='hour', y='ride_id', hue='member_casual')"
            ],
            "outputs": [],
            "metadata": {}
        },
        {
            "cell_type": "code",
            "execution_count": null,
            "source": [
                "sns.barplot(x='hour', y='ride_id', data=df_mem_cal, hue='member_casual', dodge=True)"
            ],
            "outputs": [],
            "metadata": {}
        },
        {
            "cell_type": "code",
            "execution_count": null,
            "source": [
                "# Weekday vs number of rides for members and casual users\n",
                "\n",
                "sns.countplot(x='weekday', data=df, hue='member_casual', dodge=True)"
            ],
            "outputs": [],
            "metadata": {}
        },
        {
            "cell_type": "code",
            "execution_count": null,
            "source": [
                "# No. of rides vs total no. of rides for weekdays\n",
                "df_wk = df.groupby(['hour', 'weekday']).count()['ride_id'].reset_index()\n",
                "\n",
                "sns.lineplot(data=df_wk, x='hour', y='ride_id', hue='weekday')"
            ],
            "outputs": [],
            "metadata": {}
        },
        {
            "cell_type": "code",
            "execution_count": null,
            "source": [
                "df_wk.sort_values(by=['ride_id', 'weekday'], ascending=False)"
            ],
            "outputs": [],
            "metadata": {}
        },
        {
            "cell_type": "code",
            "execution_count": null,
            "source": [
                "# Plotting top-5 stations rides vs time \n",
                "\n",
                "df_top = df.groupby(['hour', 'start_station_name']).count()['ride_id'].reset_index()\n",
                "\n",
                "sns.lineplot(data=df_top, \n",
                "            x='hour', y='ride_id', hue='start_station_name', \n",
                "            hue_order= df.start_station_name.value_counts().iloc[:3].index)\n",
                "\n",
                "#Lincoln Memorial                                         622\n",
                "#Jefferson Dr & 14th St SW                                602\n",
                "#4th St & Madison Dr NW                                   533\n",
                "#Henry Bacon Dr & Lincoln Memorial Circle NW              526\n",
                "#Smithsonian-National Mall / Jefferson Dr & 12th St SW    502"
            ],
            "outputs": [],
            "metadata": {}
        },
        {
            "cell_type": "code",
            "execution_count": null,
            "source": [
                "# BAR plot for top-5 stations rides vs time\n",
                "\n",
                "sns.barplot(x='hour', y='ride_id', hue='start_station_name', data=df_top,  \n",
                "            hue_order= df.start_station_name.value_counts().iloc[:3].index, dodge=True)"
            ],
            "outputs": [],
            "metadata": {}
        },
        {
            "cell_type": "code",
            "execution_count": null,
            "source": [
                "# Trip duration for top stations w.r.t no. of rides\n",
                "\n",
                "df_dur = df[df['duration_hr'] <= 1].groupby(['duration_hr', 'start_station_name']).count()['ride_id'].reset_index()\n",
                "\n",
                "sns.lineplot(data=df_dur, x='duration_hr', y='ride_id', hue='start_station_name', \n",
                "             hue_order= df.start_station_name.value_counts().iloc[:2].index)"
            ],
            "outputs": [],
            "metadata": {}
        },
        {
            "cell_type": "code",
            "execution_count": null,
            "source": [
                "#fig, ax = plt.subplots(1,1)\n",
                "\n",
                "lm = sns.barplot(x='duration_hr', y='ride_id', hue='start_station_name', data=df_dur,  \n",
                "            hue_order= df.start_station_name.value_counts().iloc[:2].index, dodge=True)\n",
                "\n",
                "#axes = lm.axes\n",
                "#axes.set_xlim(0,5)\n",
                "\n",
                "#plt.xlim(0, 30)\n",
                "\n",
                "#plt.xticks(df_dur['duration_hr'][::5])    # set here, ticks at step of 50\n",
                "#plt.show()\n",
                "\n",
                "plt.xticks([0,0.4,0.8,1.0]);"
            ],
            "outputs": [],
            "metadata": {}
        },
        {
            "cell_type": "markdown",
            "source": [
                "# Resampling\n",
                "For controlling data visualisation w.r.t Time"
            ],
            "metadata": {}
        },
        {
            "cell_type": "code",
            "execution_count": null,
            "source": [
                "df.loc[:, 'values'] = 1"
            ],
            "outputs": [],
            "metadata": {}
        },
        {
            "cell_type": "code",
            "execution_count": null,
            "source": [
                "df"
            ],
            "outputs": [],
            "metadata": {}
        },
        {
            "cell_type": "code",
            "execution_count": null,
            "source": [
                "sns.lineplot(data=df.loc['2021-06-21 6:00':'2021-06-23 12:00'].resample('15T').count()['member_casual'])"
            ],
            "outputs": [],
            "metadata": {}
        },
        {
            "cell_type": "code",
            "execution_count": null,
            "source": [
                "df.loc['2021-06-21 6:00':'2021-06-22 12:00']"
            ],
            "outputs": [],
            "metadata": {}
        },
        {
            "cell_type": "code",
            "execution_count": null,
            "source": [
                "sns.lineplot(data=df.loc['2021-06-21':'2021-06-27'].resample('30T').count()['member_casual'])"
            ],
            "outputs": [],
            "metadata": {}
        },
        {
            "cell_type": "markdown",
            "source": [
                "# Key Performance Index (KPI)\n"
            ],
            "metadata": {}
        },
        {
            "cell_type": "code",
            "execution_count": 410,
            "source": [
                "# Trip duration\n",
                "# Counting no. of rides w.r.t trip duration\n",
                "\n",
                "df[['duration_hr']].loc['2021-06-21' : '2021-06-26'].resample('10T').count().plot(figsize=(18,5))"
            ],
            "outputs": [
                {
                    "output_type": "execute_result",
                    "data": {
                        "text/plain": [
                            "<AxesSubplot:xlabel='started_at'>"
                        ]
                    },
                    "metadata": {},
                    "execution_count": 410
                },
                {
                    "output_type": "display_data",
                    "data": {
                        "text/plain": [
                            "<Figure size 1296x360 with 1 Axes>"
                        ],
                        "image/png": "[encoded data removed]"
                    },
                    "metadata": {}
                }
            ],
            "metadata": {}
        },
        {
            "cell_type": "code",
            "execution_count": 446,
            "source": [
                "# Trip duration\n",
                "# Average ride duration w.r.t trip duration\n",
                "\n",
                "df[['duration_hr']].loc['2021-06-21' : '2021-06-26'].resample('10T').mean().plot(figsize=(18,5))"
            ],
            "outputs": [
                {
                    "output_type": "execute_result",
                    "data": {
                        "text/plain": [
                            "<AxesSubplot:xlabel='started_at'>"
                        ]
                    },
                    "metadata": {},
                    "execution_count": 446
                },
                {
                    "output_type": "display_data",
                    "data": {
                        "text/plain": [
                            "<Figure size 1296x360 with 1 Axes>"
                        ],
                        "image/png": "[encoded data removed]"
                    },
                    "metadata": {}
                }
            ],
            "metadata": {}
        },
        {
            "cell_type": "code",
            "execution_count": 447,
            "source": [
                "df[['duration_hr']].loc['2021-06-21' : '2021-06-21'].resample('2H').mean()"
            ],
            "outputs": [
                {
                    "output_type": "execute_result",
                    "data": {
                        "text/plain": [
                            "                     duration_hr\n",
                            "started_at                      \n",
                            "2021-06-21 00:00:00     0.355789\n",
                            "2021-06-21 02:00:00     0.164286\n",
                            "2021-06-21 04:00:00     0.205270\n",
                            "2021-06-21 06:00:00     0.245740\n",
                            "2021-06-21 08:00:00     0.751598\n",
                            "2021-06-21 10:00:00     0.391659\n",
                            "2021-06-21 12:00:00     0.385716\n",
                            "2021-06-21 14:00:00     0.330956\n",
                            "2021-06-21 16:00:00     0.262212\n",
                            "2021-06-21 18:00:00     0.263188\n",
                            "2021-06-21 20:00:00     0.290188\n",
                            "2021-06-21 22:00:00     0.238617"
                        ],
                        "text/html": [
                            "<div>\n",
                            "<style scoped>\n",
                            "    .dataframe tbody tr th:only-of-type {\n",
                            "        vertical-align: middle;\n",
                            "    }\n",
                            "\n",
                            "    .dataframe tbody tr th {\n",
                            "        vertical-align: top;\n",
                            "    }\n",
                            "\n",
                            "    .dataframe thead th {\n",
                            "        text-align: right;\n",
                            "    }\n",
                            "</style>\n",
                            "<table border=\"1\" class=\"dataframe\">\n",
                            "  <thead>\n",
                            "    <tr style=\"text-align: right;\">\n",
                            "      <th></th>\n",
                            "      <th>duration_hr</th>\n",
                            "    </tr>\n",
                            "    <tr>\n",
                            "      <th>started_at</th>\n",
                            "      <th></th>\n",
                            "    </tr>\n",
                            "  </thead>\n",
                            "  <tbody>\n",
                            "    <tr>\n",
                            "      <th>2021-06-21 00:00:00</th>\n",
                            "      <td>0.355789</td>\n",
                            "    </tr>\n",
                            "    <tr>\n",
                            "      <th>2021-06-21 02:00:00</th>\n",
                            "      <td>0.164286</td>\n",
                            "    </tr>\n",
                            "    <tr>\n",
                            "      <th>2021-06-21 04:00:00</th>\n",
                            "      <td>0.205270</td>\n",
                            "    </tr>\n",
                            "    <tr>\n",
                            "      <th>2021-06-21 06:00:00</th>\n",
                            "      <td>0.245740</td>\n",
                            "    </tr>\n",
                            "    <tr>\n",
                            "      <th>2021-06-21 08:00:00</th>\n",
                            "      <td>0.751598</td>\n",
                            "    </tr>\n",
                            "    <tr>\n",
                            "      <th>2021-06-21 10:00:00</th>\n",
                            "      <td>0.391659</td>\n",
                            "    </tr>\n",
                            "    <tr>\n",
                            "      <th>2021-06-21 12:00:00</th>\n",
                            "      <td>0.385716</td>\n",
                            "    </tr>\n",
                            "    <tr>\n",
                            "      <th>2021-06-21 14:00:00</th>\n",
                            "      <td>0.330956</td>\n",
                            "    </tr>\n",
                            "    <tr>\n",
                            "      <th>2021-06-21 16:00:00</th>\n",
                            "      <td>0.262212</td>\n",
                            "    </tr>\n",
                            "    <tr>\n",
                            "      <th>2021-06-21 18:00:00</th>\n",
                            "      <td>0.263188</td>\n",
                            "    </tr>\n",
                            "    <tr>\n",
                            "      <th>2021-06-21 20:00:00</th>\n",
                            "      <td>0.290188</td>\n",
                            "    </tr>\n",
                            "    <tr>\n",
                            "      <th>2021-06-21 22:00:00</th>\n",
                            "      <td>0.238617</td>\n",
                            "    </tr>\n",
                            "  </tbody>\n",
                            "</table>\n",
                            "</div>"
                        ]
                    },
                    "metadata": {},
                    "execution_count": 447
                }
            ],
            "metadata": {}
        },
        {
            "cell_type": "code",
            "execution_count": null,
            "source": [
                "# DataFrame for Trip duration w.r.t Time of the day\n",
                "\n",
                "#df_dur_hr = df[df['duration_hr'] <= 0.5].groupby(['hour', 'duration_hr', 'start_station_name']).count()['ride_id'].reset_index()\n",
                "#df_dur_hr"
            ],
            "outputs": [],
            "metadata": {}
        },
        {
            "cell_type": "code",
            "execution_count": 404,
            "source": [
                "# Finding Key Performance Indicator (KPI)\n",
                "# DataFrame, frequently used stations trip duration for the rides\n",
                "# Start station, End station, no. of rides, member/casual\n",
                "\n",
                "df_kpi = df.groupby(['hour', 'start_station_name', 'end_station_name', 'member_casual', 'duration_hr', 'weekday']).count()['ride_id'].sort_values(ascending=False).reset_index()\n",
                "df_kpi"
            ],
            "outputs": [
                {
                    "output_type": "execute_result",
                    "data": {
                        "text/plain": [
                            "       hour                         start_station_name  \\\n",
                            "0        14            Columbus Circle / Union Station   \n",
                            "1        17  7th & F St NW / National Portrait Gallery   \n",
                            "2        22             California St & Florida Ave NW   \n",
                            "3         8                  Virginia Ave & 25th St NW   \n",
                            "4        22                      Maine Ave & 7th St SW   \n",
                            "...     ...                                        ...   \n",
                            "48629    13                             15th & W St NW   \n",
                            "48630    13                             15th & W St NW   \n",
                            "48631    13                             15th & W St NW   \n",
                            "48632    13                             15th & W St NW   \n",
                            "48633    23                 Yuma St & Tenley Circle NW   \n",
                            "\n",
                            "                       end_station_name member_casual  duration_hr    weekday  \\\n",
                            "0                4th St & Madison Dr NW        casual         0.24     Monday   \n",
                            "1      Constitution Ave & 2nd St NW/DOL        casual         0.49  Wednesday   \n",
                            "2              18th St & Wyoming Ave NW        member         0.03     Monday   \n",
                            "3                        14th & G St NW        member         0.16  Wednesday   \n",
                            "4                 Maine Ave & 9th St SW        member         0.02   Thursday   \n",
                            "...                                 ...           ...          ...        ...   \n",
                            "48629                    13th & U St NW        casual         0.08   Thursday   \n",
                            "48630                 14th & Otis Pl NW        member         0.16   Saturday   \n",
                            "48631                    15th & P St NW        member         0.10   Saturday   \n",
                            "48632             17th & Corcoran St NW        member         0.07   Saturday   \n",
                            "48633   American University East Campus        casual         0.14   Saturday   \n",
                            "\n",
                            "       ride_id  \n",
                            "0            6  \n",
                            "1            5  \n",
                            "2            5  \n",
                            "3            5  \n",
                            "4            5  \n",
                            "...        ...  \n",
                            "48629        1  \n",
                            "48630        1  \n",
                            "48631        1  \n",
                            "48632        1  \n",
                            "48633        1  \n",
                            "\n",
                            "[48634 rows x 7 columns]"
                        ],
                        "text/html": [
                            "<div>\n",
                            "<style scoped>\n",
                            "    .dataframe tbody tr th:only-of-type {\n",
                            "        vertical-align: middle;\n",
                            "    }\n",
                            "\n",
                            "    .dataframe tbody tr th {\n",
                            "        vertical-align: top;\n",
                            "    }\n",
                            "\n",
                            "    .dataframe thead th {\n",
                            "        text-align: right;\n",
                            "    }\n",
                            "</style>\n",
                            "<table border=\"1\" class=\"dataframe\">\n",
                            "  <thead>\n",
                            "    <tr style=\"text-align: right;\">\n",
                            "      <th></th>\n",
                            "      <th>hour</th>\n",
                            "      <th>start_station_name</th>\n",
                            "      <th>end_station_name</th>\n",
                            "      <th>member_casual</th>\n",
                            "      <th>duration_hr</th>\n",
                            "      <th>weekday</th>\n",
                            "      <th>ride_id</th>\n",
                            "    </tr>\n",
                            "  </thead>\n",
                            "  <tbody>\n",
                            "    <tr>\n",
                            "      <th>0</th>\n",
                            "      <td>14</td>\n",
                            "      <td>Columbus Circle / Union Station</td>\n",
                            "      <td>4th St &amp; Madison Dr NW</td>\n",
                            "      <td>casual</td>\n",
                            "      <td>0.24</td>\n",
                            "      <td>Monday</td>\n",
                            "      <td>6</td>\n",
                            "    </tr>\n",
                            "    <tr>\n",
                            "      <th>1</th>\n",
                            "      <td>17</td>\n",
                            "      <td>7th &amp; F St NW / National Portrait Gallery</td>\n",
                            "      <td>Constitution Ave &amp; 2nd St NW/DOL</td>\n",
                            "      <td>casual</td>\n",
                            "      <td>0.49</td>\n",
                            "      <td>Wednesday</td>\n",
                            "      <td>5</td>\n",
                            "    </tr>\n",
                            "    <tr>\n",
                            "      <th>2</th>\n",
                            "      <td>22</td>\n",
                            "      <td>California St &amp; Florida Ave NW</td>\n",
                            "      <td>18th St &amp; Wyoming Ave NW</td>\n",
                            "      <td>member</td>\n",
                            "      <td>0.03</td>\n",
                            "      <td>Monday</td>\n",
                            "      <td>5</td>\n",
                            "    </tr>\n",
                            "    <tr>\n",
                            "      <th>3</th>\n",
                            "      <td>8</td>\n",
                            "      <td>Virginia Ave &amp; 25th St NW</td>\n",
                            "      <td>14th &amp; G St NW</td>\n",
                            "      <td>member</td>\n",
                            "      <td>0.16</td>\n",
                            "      <td>Wednesday</td>\n",
                            "      <td>5</td>\n",
                            "    </tr>\n",
                            "    <tr>\n",
                            "      <th>4</th>\n",
                            "      <td>22</td>\n",
                            "      <td>Maine Ave &amp; 7th St SW</td>\n",
                            "      <td>Maine Ave &amp; 9th St SW</td>\n",
                            "      <td>member</td>\n",
                            "      <td>0.02</td>\n",
                            "      <td>Thursday</td>\n",
                            "      <td>5</td>\n",
                            "    </tr>\n",
                            "    <tr>\n",
                            "      <th>...</th>\n",
                            "      <td>...</td>\n",
                            "      <td>...</td>\n",
                            "      <td>...</td>\n",
                            "      <td>...</td>\n",
                            "      <td>...</td>\n",
                            "      <td>...</td>\n",
                            "      <td>...</td>\n",
                            "    </tr>\n",
                            "    <tr>\n",
                            "      <th>48629</th>\n",
                            "      <td>13</td>\n",
                            "      <td>15th &amp; W St NW</td>\n",
                            "      <td>13th &amp; U St NW</td>\n",
                            "      <td>casual</td>\n",
                            "      <td>0.08</td>\n",
                            "      <td>Thursday</td>\n",
                            "      <td>1</td>\n",
                            "    </tr>\n",
                            "    <tr>\n",
                            "      <th>48630</th>\n",
                            "      <td>13</td>\n",
                            "      <td>15th &amp; W St NW</td>\n",
                            "      <td>14th &amp; Otis Pl NW</td>\n",
                            "      <td>member</td>\n",
                            "      <td>0.16</td>\n",
                            "      <td>Saturday</td>\n",
                            "      <td>1</td>\n",
                            "    </tr>\n",
                            "    <tr>\n",
                            "      <th>48631</th>\n",
                            "      <td>13</td>\n",
                            "      <td>15th &amp; W St NW</td>\n",
                            "      <td>15th &amp; P St NW</td>\n",
                            "      <td>member</td>\n",
                            "      <td>0.10</td>\n",
                            "      <td>Saturday</td>\n",
                            "      <td>1</td>\n",
                            "    </tr>\n",
                            "    <tr>\n",
                            "      <th>48632</th>\n",
                            "      <td>13</td>\n",
                            "      <td>15th &amp; W St NW</td>\n",
                            "      <td>17th &amp; Corcoran St NW</td>\n",
                            "      <td>member</td>\n",
                            "      <td>0.07</td>\n",
                            "      <td>Saturday</td>\n",
                            "      <td>1</td>\n",
                            "    </tr>\n",
                            "    <tr>\n",
                            "      <th>48633</th>\n",
                            "      <td>23</td>\n",
                            "      <td>Yuma St &amp; Tenley Circle NW</td>\n",
                            "      <td>American University East Campus</td>\n",
                            "      <td>casual</td>\n",
                            "      <td>0.14</td>\n",
                            "      <td>Saturday</td>\n",
                            "      <td>1</td>\n",
                            "    </tr>\n",
                            "  </tbody>\n",
                            "</table>\n",
                            "<p>48634 rows × 7 columns</p>\n",
                            "</div>"
                        ]
                    },
                    "metadata": {},
                    "execution_count": 404
                }
            ],
            "metadata": {}
        },
        {
            "cell_type": "code",
            "execution_count": 405,
            "source": [
                "# Finding Key Performance Indicator (KPI)\n",
                "# Starting station equals to the end stations for max. no. of rides\n",
                "\n",
                "df_kpi.loc[df_kpi['start_station_name'] == df_kpi['end_station_name'], :]\n"
            ],
            "outputs": [
                {
                    "output_type": "execute_result",
                    "data": {
                        "text/plain": [
                            "       hour                                start_station_name  \\\n",
                            "5        17  Ohio Dr & West Basin Dr SW / MLK & FDR Memorials   \n",
                            "24       22                                  Lincoln Memorial   \n",
                            "27       22                                    19th & G St NW   \n",
                            "45       19                     15th St & Constitution Ave NW   \n",
                            "57       14                                     3rd & H St NE   \n",
                            "...     ...                                               ...   \n",
                            "48557    13                                    15th & P St NW   \n",
                            "48583    13                                    15th & K St NW   \n",
                            "48592    13                     15th St & Constitution Ave NW   \n",
                            "48593    13                     15th St & Constitution Ave NW   \n",
                            "48609    13                     15th St & Pennsylvania Ave NW   \n",
                            "\n",
                            "                                       end_station_name member_casual  \\\n",
                            "5      Ohio Dr & West Basin Dr SW / MLK & FDR Memorials        casual   \n",
                            "24                                     Lincoln Memorial        casual   \n",
                            "27                                       19th & G St NW        member   \n",
                            "45                        15th St & Constitution Ave NW        casual   \n",
                            "57                                        3rd & H St NE        casual   \n",
                            "...                                                 ...           ...   \n",
                            "48557                                    15th & P St NW        member   \n",
                            "48583                                    15th & K St NW        casual   \n",
                            "48592                     15th St & Constitution Ave NW        casual   \n",
                            "48593                     15th St & Constitution Ave NW        casual   \n",
                            "48609                     15th St & Pennsylvania Ave NW        casual   \n",
                            "\n",
                            "       duration_hr   weekday  ride_id  \n",
                            "5             0.31  Saturday        4  \n",
                            "24            0.34    Friday        3  \n",
                            "27            0.01  Saturday        3  \n",
                            "45            0.36    Friday        3  \n",
                            "57            0.44    Friday        3  \n",
                            "...            ...       ...      ...  \n",
                            "48557         0.32    Monday        1  \n",
                            "48583         1.12    Monday        1  \n",
                            "48592         0.00  Saturday        1  \n",
                            "48593         0.40  Thursday        1  \n",
                            "48609         0.02  Saturday        1  \n",
                            "\n",
                            "[3973 rows x 7 columns]"
                        ],
                        "text/html": [
                            "<div>\n",
                            "<style scoped>\n",
                            "    .dataframe tbody tr th:only-of-type {\n",
                            "        vertical-align: middle;\n",
                            "    }\n",
                            "\n",
                            "    .dataframe tbody tr th {\n",
                            "        vertical-align: top;\n",
                            "    }\n",
                            "\n",
                            "    .dataframe thead th {\n",
                            "        text-align: right;\n",
                            "    }\n",
                            "</style>\n",
                            "<table border=\"1\" class=\"dataframe\">\n",
                            "  <thead>\n",
                            "    <tr style=\"text-align: right;\">\n",
                            "      <th></th>\n",
                            "      <th>hour</th>\n",
                            "      <th>start_station_name</th>\n",
                            "      <th>end_station_name</th>\n",
                            "      <th>member_casual</th>\n",
                            "      <th>duration_hr</th>\n",
                            "      <th>weekday</th>\n",
                            "      <th>ride_id</th>\n",
                            "    </tr>\n",
                            "  </thead>\n",
                            "  <tbody>\n",
                            "    <tr>\n",
                            "      <th>5</th>\n",
                            "      <td>17</td>\n",
                            "      <td>Ohio Dr &amp; West Basin Dr SW / MLK &amp; FDR Memorials</td>\n",
                            "      <td>Ohio Dr &amp; West Basin Dr SW / MLK &amp; FDR Memorials</td>\n",
                            "      <td>casual</td>\n",
                            "      <td>0.31</td>\n",
                            "      <td>Saturday</td>\n",
                            "      <td>4</td>\n",
                            "    </tr>\n",
                            "    <tr>\n",
                            "      <th>24</th>\n",
                            "      <td>22</td>\n",
                            "      <td>Lincoln Memorial</td>\n",
                            "      <td>Lincoln Memorial</td>\n",
                            "      <td>casual</td>\n",
                            "      <td>0.34</td>\n",
                            "      <td>Friday</td>\n",
                            "      <td>3</td>\n",
                            "    </tr>\n",
                            "    <tr>\n",
                            "      <th>27</th>\n",
                            "      <td>22</td>\n",
                            "      <td>19th &amp; G St NW</td>\n",
                            "      <td>19th &amp; G St NW</td>\n",
                            "      <td>member</td>\n",
                            "      <td>0.01</td>\n",
                            "      <td>Saturday</td>\n",
                            "      <td>3</td>\n",
                            "    </tr>\n",
                            "    <tr>\n",
                            "      <th>45</th>\n",
                            "      <td>19</td>\n",
                            "      <td>15th St &amp; Constitution Ave NW</td>\n",
                            "      <td>15th St &amp; Constitution Ave NW</td>\n",
                            "      <td>casual</td>\n",
                            "      <td>0.36</td>\n",
                            "      <td>Friday</td>\n",
                            "      <td>3</td>\n",
                            "    </tr>\n",
                            "    <tr>\n",
                            "      <th>57</th>\n",
                            "      <td>14</td>\n",
                            "      <td>3rd &amp; H St NE</td>\n",
                            "      <td>3rd &amp; H St NE</td>\n",
                            "      <td>casual</td>\n",
                            "      <td>0.44</td>\n",
                            "      <td>Friday</td>\n",
                            "      <td>3</td>\n",
                            "    </tr>\n",
                            "    <tr>\n",
                            "      <th>...</th>\n",
                            "      <td>...</td>\n",
                            "      <td>...</td>\n",
                            "      <td>...</td>\n",
                            "      <td>...</td>\n",
                            "      <td>...</td>\n",
                            "      <td>...</td>\n",
                            "      <td>...</td>\n",
                            "    </tr>\n",
                            "    <tr>\n",
                            "      <th>48557</th>\n",
                            "      <td>13</td>\n",
                            "      <td>15th &amp; P St NW</td>\n",
                            "      <td>15th &amp; P St NW</td>\n",
                            "      <td>member</td>\n",
                            "      <td>0.32</td>\n",
                            "      <td>Monday</td>\n",
                            "      <td>1</td>\n",
                            "    </tr>\n",
                            "    <tr>\n",
                            "      <th>48583</th>\n",
                            "      <td>13</td>\n",
                            "      <td>15th &amp; K St NW</td>\n",
                            "      <td>15th &amp; K St NW</td>\n",
                            "      <td>casual</td>\n",
                            "      <td>1.12</td>\n",
                            "      <td>Monday</td>\n",
                            "      <td>1</td>\n",
                            "    </tr>\n",
                            "    <tr>\n",
                            "      <th>48592</th>\n",
                            "      <td>13</td>\n",
                            "      <td>15th St &amp; Constitution Ave NW</td>\n",
                            "      <td>15th St &amp; Constitution Ave NW</td>\n",
                            "      <td>casual</td>\n",
                            "      <td>0.00</td>\n",
                            "      <td>Saturday</td>\n",
                            "      <td>1</td>\n",
                            "    </tr>\n",
                            "    <tr>\n",
                            "      <th>48593</th>\n",
                            "      <td>13</td>\n",
                            "      <td>15th St &amp; Constitution Ave NW</td>\n",
                            "      <td>15th St &amp; Constitution Ave NW</td>\n",
                            "      <td>casual</td>\n",
                            "      <td>0.40</td>\n",
                            "      <td>Thursday</td>\n",
                            "      <td>1</td>\n",
                            "    </tr>\n",
                            "    <tr>\n",
                            "      <th>48609</th>\n",
                            "      <td>13</td>\n",
                            "      <td>15th St &amp; Pennsylvania Ave NW</td>\n",
                            "      <td>15th St &amp; Pennsylvania Ave NW</td>\n",
                            "      <td>casual</td>\n",
                            "      <td>0.02</td>\n",
                            "      <td>Saturday</td>\n",
                            "      <td>1</td>\n",
                            "    </tr>\n",
                            "  </tbody>\n",
                            "</table>\n",
                            "<p>3973 rows × 7 columns</p>\n",
                            "</div>"
                        ]
                    },
                    "metadata": {},
                    "execution_count": 405
                }
            ],
            "metadata": {}
        },
        {
            "cell_type": "code",
            "execution_count": null,
            "source": [
                "a= df_kpi.loc[df_kpi['start_station_name'] == df_kpi['end_station_name'], :].groupby(['member_casual']).sum()['ride_id']\n",
                "a"
            ],
            "outputs": [],
            "metadata": {}
        },
        {
            "cell_type": "code",
            "execution_count": null,
            "source": [
                "type(a)"
            ],
            "outputs": [],
            "metadata": {}
        },
        {
            "cell_type": "code",
            "execution_count": 409,
            "source": [
                "# Plotting \n",
                "sns.barplot(x=a.index, y=a.values)"
            ],
            "outputs": [
                {
                    "output_type": "execute_result",
                    "data": {
                        "text/plain": [
                            "<AxesSubplot:xlabel='member_casual'>"
                        ]
                    },
                    "metadata": {},
                    "execution_count": 409
                },
                {
                    "output_type": "display_data",
                    "data": {
                        "text/plain": [
                            "<Figure size 1440x595.44 with 1 Axes>"
                        ],
                        "image/png": "[encoded data removed]"
                    },
                    "metadata": {}
                }
            ],
            "metadata": {}
        },
        {
            "cell_type": "code",
            "execution_count": 407,
            "source": [
                "# Finding Key Performance Indicator (KPI)\n",
                "# Starting station is not the same as the end stations\n",
                "\n",
                "df_kpi.loc[df_kpi['start_station_name'] != df_kpi['end_station_name'], :]"
            ],
            "outputs": [
                {
                    "output_type": "execute_result",
                    "data": {
                        "text/plain": [
                            "       hour                         start_station_name  \\\n",
                            "0        14            Columbus Circle / Union Station   \n",
                            "1        17  7th & F St NW / National Portrait Gallery   \n",
                            "2        22             California St & Florida Ave NW   \n",
                            "3         8                  Virginia Ave & 25th St NW   \n",
                            "4        22                      Maine Ave & 7th St SW   \n",
                            "...     ...                                        ...   \n",
                            "48629    13                             15th & W St NW   \n",
                            "48630    13                             15th & W St NW   \n",
                            "48631    13                             15th & W St NW   \n",
                            "48632    13                             15th & W St NW   \n",
                            "48633    23                 Yuma St & Tenley Circle NW   \n",
                            "\n",
                            "                       end_station_name member_casual  duration_hr    weekday  \\\n",
                            "0                4th St & Madison Dr NW        casual         0.24     Monday   \n",
                            "1      Constitution Ave & 2nd St NW/DOL        casual         0.49  Wednesday   \n",
                            "2              18th St & Wyoming Ave NW        member         0.03     Monday   \n",
                            "3                        14th & G St NW        member         0.16  Wednesday   \n",
                            "4                 Maine Ave & 9th St SW        member         0.02   Thursday   \n",
                            "...                                 ...           ...          ...        ...   \n",
                            "48629                    13th & U St NW        casual         0.08   Thursday   \n",
                            "48630                 14th & Otis Pl NW        member         0.16   Saturday   \n",
                            "48631                    15th & P St NW        member         0.10   Saturday   \n",
                            "48632             17th & Corcoran St NW        member         0.07   Saturday   \n",
                            "48633   American University East Campus        casual         0.14   Saturday   \n",
                            "\n",
                            "       ride_id  \n",
                            "0            6  \n",
                            "1            5  \n",
                            "2            5  \n",
                            "3            5  \n",
                            "4            5  \n",
                            "...        ...  \n",
                            "48629        1  \n",
                            "48630        1  \n",
                            "48631        1  \n",
                            "48632        1  \n",
                            "48633        1  \n",
                            "\n",
                            "[44661 rows x 7 columns]"
                        ],
                        "text/html": [
                            "<div>\n",
                            "<style scoped>\n",
                            "    .dataframe tbody tr th:only-of-type {\n",
                            "        vertical-align: middle;\n",
                            "    }\n",
                            "\n",
                            "    .dataframe tbody tr th {\n",
                            "        vertical-align: top;\n",
                            "    }\n",
                            "\n",
                            "    .dataframe thead th {\n",
                            "        text-align: right;\n",
                            "    }\n",
                            "</style>\n",
                            "<table border=\"1\" class=\"dataframe\">\n",
                            "  <thead>\n",
                            "    <tr style=\"text-align: right;\">\n",
                            "      <th></th>\n",
                            "      <th>hour</th>\n",
                            "      <th>start_station_name</th>\n",
                            "      <th>end_station_name</th>\n",
                            "      <th>member_casual</th>\n",
                            "      <th>duration_hr</th>\n",
                            "      <th>weekday</th>\n",
                            "      <th>ride_id</th>\n",
                            "    </tr>\n",
                            "  </thead>\n",
                            "  <tbody>\n",
                            "    <tr>\n",
                            "      <th>0</th>\n",
                            "      <td>14</td>\n",
                            "      <td>Columbus Circle / Union Station</td>\n",
                            "      <td>4th St &amp; Madison Dr NW</td>\n",
                            "      <td>casual</td>\n",
                            "      <td>0.24</td>\n",
                            "      <td>Monday</td>\n",
                            "      <td>6</td>\n",
                            "    </tr>\n",
                            "    <tr>\n",
                            "      <th>1</th>\n",
                            "      <td>17</td>\n",
                            "      <td>7th &amp; F St NW / National Portrait Gallery</td>\n",
                            "      <td>Constitution Ave &amp; 2nd St NW/DOL</td>\n",
                            "      <td>casual</td>\n",
                            "      <td>0.49</td>\n",
                            "      <td>Wednesday</td>\n",
                            "      <td>5</td>\n",
                            "    </tr>\n",
                            "    <tr>\n",
                            "      <th>2</th>\n",
                            "      <td>22</td>\n",
                            "      <td>California St &amp; Florida Ave NW</td>\n",
                            "      <td>18th St &amp; Wyoming Ave NW</td>\n",
                            "      <td>member</td>\n",
                            "      <td>0.03</td>\n",
                            "      <td>Monday</td>\n",
                            "      <td>5</td>\n",
                            "    </tr>\n",
                            "    <tr>\n",
                            "      <th>3</th>\n",
                            "      <td>8</td>\n",
                            "      <td>Virginia Ave &amp; 25th St NW</td>\n",
                            "      <td>14th &amp; G St NW</td>\n",
                            "      <td>member</td>\n",
                            "      <td>0.16</td>\n",
                            "      <td>Wednesday</td>\n",
                            "      <td>5</td>\n",
                            "    </tr>\n",
                            "    <tr>\n",
                            "      <th>4</th>\n",
                            "      <td>22</td>\n",
                            "      <td>Maine Ave &amp; 7th St SW</td>\n",
                            "      <td>Maine Ave &amp; 9th St SW</td>\n",
                            "      <td>member</td>\n",
                            "      <td>0.02</td>\n",
                            "      <td>Thursday</td>\n",
                            "      <td>5</td>\n",
                            "    </tr>\n",
                            "    <tr>\n",
                            "      <th>...</th>\n",
                            "      <td>...</td>\n",
                            "      <td>...</td>\n",
                            "      <td>...</td>\n",
                            "      <td>...</td>\n",
                            "      <td>...</td>\n",
                            "      <td>...</td>\n",
                            "      <td>...</td>\n",
                            "    </tr>\n",
                            "    <tr>\n",
                            "      <th>48629</th>\n",
                            "      <td>13</td>\n",
                            "      <td>15th &amp; W St NW</td>\n",
                            "      <td>13th &amp; U St NW</td>\n",
                            "      <td>casual</td>\n",
                            "      <td>0.08</td>\n",
                            "      <td>Thursday</td>\n",
                            "      <td>1</td>\n",
                            "    </tr>\n",
                            "    <tr>\n",
                            "      <th>48630</th>\n",
                            "      <td>13</td>\n",
                            "      <td>15th &amp; W St NW</td>\n",
                            "      <td>14th &amp; Otis Pl NW</td>\n",
                            "      <td>member</td>\n",
                            "      <td>0.16</td>\n",
                            "      <td>Saturday</td>\n",
                            "      <td>1</td>\n",
                            "    </tr>\n",
                            "    <tr>\n",
                            "      <th>48631</th>\n",
                            "      <td>13</td>\n",
                            "      <td>15th &amp; W St NW</td>\n",
                            "      <td>15th &amp; P St NW</td>\n",
                            "      <td>member</td>\n",
                            "      <td>0.10</td>\n",
                            "      <td>Saturday</td>\n",
                            "      <td>1</td>\n",
                            "    </tr>\n",
                            "    <tr>\n",
                            "      <th>48632</th>\n",
                            "      <td>13</td>\n",
                            "      <td>15th &amp; W St NW</td>\n",
                            "      <td>17th &amp; Corcoran St NW</td>\n",
                            "      <td>member</td>\n",
                            "      <td>0.07</td>\n",
                            "      <td>Saturday</td>\n",
                            "      <td>1</td>\n",
                            "    </tr>\n",
                            "    <tr>\n",
                            "      <th>48633</th>\n",
                            "      <td>23</td>\n",
                            "      <td>Yuma St &amp; Tenley Circle NW</td>\n",
                            "      <td>American University East Campus</td>\n",
                            "      <td>casual</td>\n",
                            "      <td>0.14</td>\n",
                            "      <td>Saturday</td>\n",
                            "      <td>1</td>\n",
                            "    </tr>\n",
                            "  </tbody>\n",
                            "</table>\n",
                            "<p>44661 rows × 7 columns</p>\n",
                            "</div>"
                        ]
                    },
                    "metadata": {},
                    "execution_count": 407
                }
            ],
            "metadata": {}
        },
        {
            "cell_type": "code",
            "execution_count": 406,
            "source": [
                "b= df_kpi.loc[df_kpi['start_station_name'] != df_kpi['end_station_name'], :].groupby(['member_casual']).sum()['ride_id']\n",
                "b"
            ],
            "outputs": [
                {
                    "output_type": "execute_result",
                    "data": {
                        "text/plain": [
                            "member_casual\n",
                            "casual    19161\n",
                            "member    27302\n",
                            "Name: ride_id, dtype: int64"
                        ]
                    },
                    "metadata": {},
                    "execution_count": 406
                }
            ],
            "metadata": {}
        },
        {
            "cell_type": "code",
            "execution_count": 408,
            "source": [
                "df_kpi = df.groupby(['hour', 'start_station_name', 'end_station_name', 'member_casual', 'duration_hr', 'weekday']).count()['ride_id'].sort_values(ascending=False).reset_index()"
            ],
            "outputs": [],
            "metadata": {}
        }
    ],
    "metadata": {
        "orig_nbformat": 4,
        "language_info": {
            "name": "python",
            "version": "3.9.5",
            "mimetype": "text/x-python",
            "codemirror_mode": {
                "name": "ipython",
                "version": 3
            },
            "pygments_lexer": "ipython3",
            "nbconvert_exporter": "python",
            "file_extension": ".py"
        },
        "kernelspec": {
            "name": "python3",
            "display_name": "Python 3.9.5 64-bit"
        },
        "interpreter": {
            "hash": "397704579725e15f5c7cb49fe5f0341eb7531c82d19f2c29d197e8b64ab5776b"
        }
    },
    "nbformat": 4,
    "nbformat_minor": 2
}